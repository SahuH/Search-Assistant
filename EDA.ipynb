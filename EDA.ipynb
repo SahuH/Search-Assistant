{
 "cells": [
  {
   "cell_type": "code",
   "execution_count": 10,
   "id": "380f2f49",
   "metadata": {},
   "outputs": [],
   "source": [
    "import numpy as np\n",
    "import pandas as pd"
   ]
  },
  {
   "cell_type": "code",
   "execution_count": 11,
   "id": "ec151aab",
   "metadata": {},
   "outputs": [],
   "source": [
    "df = pd.read_csv(\"./data/airbnb_properties.csv\")"
   ]
  },
  {
   "cell_type": "code",
   "execution_count": 35,
   "id": "6714d7ad",
   "metadata": {},
   "outputs": [],
   "source": [
    "## Python: Find city name from latitude and longitude\n",
    "from geopy.geocoders import Nominatim, GeoNames\n",
    "geolocator = Nominatim(user_agent=\"myapplication\")\n",
    "def findCity(lat, lon):\n",
    "    try:\n",
    "        location = geolocator.reverse((lat, lon), exactly_one=True)\n",
    "        address = location.raw['address']\n",
    "        city = address.get('city', '')\n",
    "        if city == '':\n",
    "            city = address.get('state', '')\n",
    "        if city == '':\n",
    "            city = address.get('country', '')\n",
    "        return city\n",
    "    except:\n",
    "        return None\n",
    "    \n",
    "\n",
    "df[\"city\"] = df.apply(lambda row: findCity(row['latitude'], row['longitude']), axis=1)"
   ]
  },
  {
   "cell_type": "code",
   "execution_count": null,
   "id": "1d75a599",
   "metadata": {},
   "outputs": [],
   "source": [
    "# row = df.sample(1) \n",
    "# lat, lon = row['latitude'].values[0], row['longitude'].values[0]\n",
    "# location = geolocator.reverse((lat, lon), exactly_one=True)"
   ]
  },
  {
   "cell_type": "code",
   "execution_count": null,
   "id": "7a3912dd",
   "metadata": {},
   "outputs": [],
   "source": []
  }
 ],
 "metadata": {
  "kernelspec": {
   "display_name": "base",
   "language": "python",
   "name": "python3"
  },
  "language_info": {
   "codemirror_mode": {
    "name": "ipython",
    "version": 3
   },
   "file_extension": ".py",
   "mimetype": "text/x-python",
   "name": "python",
   "nbconvert_exporter": "python",
   "pygments_lexer": "ipython3",
   "version": "3.11.7"
  }
 },
 "nbformat": 4,
 "nbformat_minor": 5
}
